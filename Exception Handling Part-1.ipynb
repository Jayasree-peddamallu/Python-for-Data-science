{
 "cells": [
  {
   "cell_type": "markdown",
   "id": "a3617388-9b3b-41a4-81d5-c2925af318e2",
   "metadata": {},
   "source": [
    "Q1. What is an Exception in pthon? Write the difference between Exceptions and syntax errors\n",
    "\n",
    "Answer: In Python, an exception is an event that occurs during the execution of a program that disrupts the normal flow of instructions. When an exception occurs, the program stops executing the current code block and jumps to a pre-defined exception handling block. Exception handling allows the program to gracefully recover from errors and continue running, rather than crashing or stopping unexpectedly.\n",
    "\n",
    "Syntax errors, on the other hand, are errors that occur when the Python interpreter encounters a problem with the way the code is written. Syntax errors are detected by the interpreter before the program is executed and are caused by mistakes such as misspelled keywords, incorrect indentation, or invalid syntax.\n",
    "\n",
    "The key difference between exceptions and syntax errors is that syntax errors are caught by the interpreter during the parsing stage, while exceptions occur during the execution of the program. Syntax errors prevent the program from executing at all, while exceptions can be handled by the program to allow it to recover and continue running. In short, exceptions are runtime errors, while syntax errors are compile-time errors.\n"
   ]
  },
  {
   "cell_type": "markdown",
   "id": "48a37820-73cc-4512-b2e9-f90cab12d511",
   "metadata": {},
   "source": [
    "Q2. What happens when an exception is not handled? Explain with an example\n",
    "\n",
    "Answer : When an exception is not handled, the program will terminate abruptly with an error message displayed on the screen. This can be problematic for both the end-users and the developers as it provides no indication of what went wrong and how it can be fixed."
   ]
  },
  {
   "cell_type": "code",
   "execution_count": 1,
   "id": "73ede203-bdd0-45c2-8a7b-dc8a30c6f08d",
   "metadata": {},
   "outputs": [
    {
     "ename": "ZeroDivisionError",
     "evalue": "division by zero",
     "output_type": "error",
     "traceback": [
      "\u001b[0;31m---------------------------------------------------------------------------\u001b[0m",
      "\u001b[0;31mZeroDivisionError\u001b[0m                         Traceback (most recent call last)",
      "Cell \u001b[0;32mIn[1], line 2\u001b[0m\n\u001b[1;32m      1\u001b[0m a\u001b[38;5;241m=\u001b[39m\u001b[38;5;241m10\u001b[39m\n\u001b[0;32m----> 2\u001b[0m \u001b[43ma\u001b[49m\u001b[38;5;241;43m/\u001b[39;49m\u001b[38;5;241;43m0\u001b[39;49m\n\u001b[1;32m      3\u001b[0m \u001b[38;5;28mprint\u001b[39m(a)\n",
      "\u001b[0;31mZeroDivisionError\u001b[0m: division by zero"
     ]
    }
   ],
   "source": [
    "a=10\n",
    "a/0  # here we will get divison by Zero error check the next block of code to know how to handle this exception\n",
    "print(a)"
   ]
  },
  {
   "cell_type": "code",
   "execution_count": 2,
   "id": "f1d41625-e5c6-4f02-87cf-2687afde1f59",
   "metadata": {},
   "outputs": [
    {
     "name": "stdout",
     "output_type": "stream",
     "text": [
      "Division by zero is not correct division by zero\n"
     ]
    }
   ],
   "source": [
    "#here is the block of code to handle Exception \n",
    "try:\n",
    "    a=10\n",
    "    a/0\n",
    "except Exception as e:\n",
    "    print(\"Division by zero is not correct\",e)"
   ]
  },
  {
   "cell_type": "markdown",
   "id": "050d0f87-d932-4dee-a4e8-3a5c1b2641ea",
   "metadata": {},
   "source": [
    "Q3. Which Python statements are used to catch and handle exceptions? Explain with example\n",
    "\n",
    "Answer : In Python, the try and except statements are used to catch and handle exceptions. The try statement is used to specify a block of code that may raise an exception, while the except statement is used to define a block of code to handle the exception if it occurs.\n",
    "\n",
    "Below is the example\n"
   ]
  },
  {
   "cell_type": "code",
   "execution_count": 3,
   "id": "78a45a3e-3aea-41c5-885b-0e029890b59f",
   "metadata": {},
   "outputs": [
    {
     "name": "stdout",
     "output_type": "stream",
     "text": [
      "file is not available [Errno 2] No such file or directory: 'test.txt'\n"
     ]
    }
   ],
   "source": [
    "try:\n",
    "    f=open(\"test.txt\",'r') # here test.txt file is not present so exceptin will raise to handle this we need to write except block\n",
    "except Exception as e:\n",
    "    print(\"file is not available\",e)"
   ]
  },
  {
   "cell_type": "markdown",
   "id": "3982f2fc-9c3a-45bf-9ee0-9c718e4f225e",
   "metadata": {},
   "source": [
    "Q4. Explain with example : (a). try and else (b). Finally (c). raise\n",
    "\n",
    "Answer: (a) try and else:\n",
    "\n",
    "In Python, the try statement can also have an optional else block. The else block is executed only if the try block executes successfully, without raising any exceptions. \n",
    "\n",
    "(b) finally:\n",
    "\n",
    "The finally block is used to define a block of code that is always executed, regardless of whether an exception was raised or not.\n",
    "(c) raise:\n",
    "\n",
    "In Python, the raise statement is used to raise an exception manually. whenever we want to raise custom exception then we can use raise.\n"
   ]
  },
  {
   "cell_type": "code",
   "execution_count": 4,
   "id": "39ed8e3f-b3e2-497f-874d-37910b0ee586",
   "metadata": {},
   "outputs": [
    {
     "name": "stdout",
     "output_type": "stream",
     "text": [
      "The result is: 2.5\n"
     ]
    }
   ],
   "source": [
    "#(a) try and else\n",
    "try:\n",
    "    x = 5 / 2\n",
    "except :\n",
    "    print(\"Division by zero is not allowed\")\n",
    "else:\n",
    "    print(\"The result is:\", x)"
   ]
  },
  {
   "cell_type": "code",
   "execution_count": null,
   "id": "87e11fd8-5d14-4391-9c4e-609c725fef6e",
   "metadata": {},
   "outputs": [],
   "source": [
    "#(b) finally\n",
    "try:\n",
    "    x = 5 / 0\n",
    "except :\n",
    "    print(\"Division by zero is not allowed\")\n",
    "finally:\n",
    "    print(\"Finally will always execute\")"
   ]
  },
  {
   "cell_type": "code",
   "execution_count": 6,
   "id": "c857cf90-8205-4380-b1d7-e6af70dcff6a",
   "metadata": {},
   "outputs": [
    {
     "ename": "ValueError",
     "evalue": "Sorry, the number must be positive",
     "output_type": "error",
     "traceback": [
      "\u001b[0;31m---------------------------------------------------------------------------\u001b[0m",
      "\u001b[0;31mValueError\u001b[0m                                Traceback (most recent call last)",
      "Cell \u001b[0;32mIn[6], line 5\u001b[0m\n\u001b[1;32m      2\u001b[0m x \u001b[38;5;241m=\u001b[39m \u001b[38;5;241m-\u001b[39m\u001b[38;5;241m1\u001b[39m\n\u001b[1;32m      4\u001b[0m \u001b[38;5;28;01mif\u001b[39;00m x \u001b[38;5;241m<\u001b[39m \u001b[38;5;241m0\u001b[39m:\n\u001b[0;32m----> 5\u001b[0m     \u001b[38;5;28;01mraise\u001b[39;00m \u001b[38;5;167;01mValueError\u001b[39;00m(\u001b[38;5;124m\"\u001b[39m\u001b[38;5;124mSorry, the number must be positive\u001b[39m\u001b[38;5;124m\"\u001b[39m)\n",
      "\u001b[0;31mValueError\u001b[0m: Sorry, the number must be positive"
     ]
    }
   ],
   "source": [
    "#(c) raise\n",
    "x = -1\n",
    "\n",
    "if x < 0:\n",
    "    raise ValueError(\"Sorry, the number must be positive\")"
   ]
  },
  {
   "cell_type": "markdown",
   "id": "28b2a5fe-0cef-4864-9260-d434aa5acea2",
   "metadata": {},
   "source": [
    "Q5. What are the custom exceptions in python? Why do we need custom exceptions ? Explain with an example\n",
    "\n",
    "Answer : custom exceptions are user-defined exceptions that are created to handle specific errors in your code.\n",
    "We need custom exceptions because they allow us to provide more detailed error messages and make it easier to debug our code\n",
    "    "
   ]
  },
  {
   "cell_type": "code",
   "execution_count": 9,
   "id": "c66ce3b3-a9ad-4720-adf5-af84a8ec82fd",
   "metadata": {},
   "outputs": [
    {
     "name": "stdin",
     "output_type": "stream",
     "text": [
      "Enter age 12\n"
     ]
    },
    {
     "name": "stdout",
     "output_type": "stream",
     "text": [
      "valid\n"
     ]
    }
   ],
   "source": [
    "class age(Exception):\n",
    "    def __init__(self,message):\n",
    "        self.message=message\n",
    "\n",
    "def validate_age(age):\n",
    "    if age<0:\n",
    "        raise age(\"Age should not be less than zero\")\n",
    "    elif age>120:\n",
    "        raise age(\"Age should not be greater than 120\")\n",
    "    else:\n",
    "        print(\"valid\")\n",
    "\n",
    "age=int(input(\"Enter age\")) \n",
    "validate_age(age)\n",
    "        \n",
    "        "
   ]
  },
  {
   "cell_type": "markdown",
   "id": "be7bd831-e014-4942-bfce-099d79827369",
   "metadata": {},
   "source": [
    "Q6. Create custom exception class. Use this class to handle exception\n"
   ]
  },
  {
   "cell_type": "code",
   "execution_count": 10,
   "id": "ddff803c-fa44-4305-9408-7701f6ddefa8",
   "metadata": {},
   "outputs": [
    {
     "name": "stdout",
     "output_type": "stream",
     "text": [
      "An error occurred: Cannot divide by zero\n"
     ]
    }
   ],
   "source": [
    "class custom(Exception):\n",
    "    def __init__(self, message):\n",
    "        self.message = message\n",
    "        \n",
    "def divide(a, b):\n",
    "    if b == 0:\n",
    "        raise custom(\"Cannot divide by zero\")\n",
    "    return a / b\n",
    "\n",
    "try:\n",
    "    result = divide(10, 0)\n",
    "except custom as e:\n",
    "    print(\"An error occurred:\", e.message)\n",
    "else:\n",
    "    print(\"The result is:\", result)"
   ]
  },
  {
   "cell_type": "code",
   "execution_count": null,
   "id": "02b578ce-682f-4a2a-9dcf-76b72a57f250",
   "metadata": {},
   "outputs": [],
   "source": []
  }
 ],
 "metadata": {
  "kernelspec": {
   "display_name": "Python 3 (ipykernel)",
   "language": "python",
   "name": "python3"
  },
  "language_info": {
   "codemirror_mode": {
    "name": "ipython",
    "version": 3
   },
   "file_extension": ".py",
   "mimetype": "text/x-python",
   "name": "python",
   "nbconvert_exporter": "python",
   "pygments_lexer": "ipython3",
   "version": "3.10.8"
  }
 },
 "nbformat": 4,
 "nbformat_minor": 5
}
