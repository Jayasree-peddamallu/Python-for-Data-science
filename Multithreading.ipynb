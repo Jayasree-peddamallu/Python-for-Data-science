{
 "cells": [
  {
   "cell_type": "markdown",
   "id": "e676ca8c-4b79-464a-81cc-3d6e8fea9963",
   "metadata": {},
   "source": [
    "Q1. what is multithreading in python? Why is it used? Name the module used to handle threads in python\n",
    "\n",
    "Answer:  Multithreading in Python refers to the ability of a program to perform multiple threads of execution concurrently. In other words, it allows multiple parts of a program to run simultaneously, making it possible to perform multiple tasks at the same time.\n",
    "\n",
    "Multithreading is used in Python to improve the performance of a program that performs multiple tasks. Instead of waiting for a single task to complete before starting the next one, multiple tasks can be performed concurrently, reducing the overall time it takes to complete them.\n",
    "\n",
    "The primary advantage of multithreading is that it can significantly reduce the time required for a program to complete a set of tasks. It can also improve the responsiveness of a program by allowing it to continue processing user input while performing background tasks.\n",
    "\n",
    "The \"threading\" module is used to handle threads in Python. It provides a simple way to create and manage threads, allowing a program to perform multiple tasks simultaneously. The \"threading\" module can be used to create new threads, start them, and control their execution, including synchronization and communication between threads."
   ]
  },
  {
   "cell_type": "markdown",
   "id": "86e389e4-7ffa-4844-93f1-d0210311cfdd",
   "metadata": {},
   "source": [
    "Q2. Why threading module used? Write the use of the following functions\n",
    "1. activeCount()\n",
    "2. currentThread()\n",
    "3. enumerate()\n",
    "\n",
    "Answer:The threading module in Python is used to create and manage threads. It provides a high-level interface for creating new threads, starting them, and controlling their execution. The threading module is particularly useful for implementing multi-threaded programs where multiple tasks need to be performed simultaneously.\n",
    "\n",
    "Here are the use cases of the following functions in the threading module:\n",
    "\n",
    "activeCount(): This function returns the number of thread objects that are currently active and running. It can be used to monitor the number of active threads in a program and to ensure that the number of threads is within the desired range.\n",
    "\n",
    "currentThread(): This function returns a reference to the current thread object that is executing the Python code. It can be used to obtain information about the current thread, such as its name or thread ID, and to manipulate the thread object, such as setting its attributes or joining it with other threads.\n",
    "\n",
    "enumerate(): This function returns a list of all the thread objects that are currently active and running in the program. It can be used to monitor the status of all threads in a program and to perform operations on them, such as waiting for them to complete or terminating them. The enumerate() function can also be used to obtain information about each thread, such as its name or thread ID."
   ]
  },
  {
   "cell_type": "markdown",
   "id": "424bc159-424e-4b60-96e2-ef395521fbe1",
   "metadata": {},
   "source": [
    "Q3. Explain the following functions\n",
    "1. run()\n",
    "2. start()\n",
    "3. join()\n",
    "4. isAlive()\n",
    "\n",
    "Answer: The following are the explanations of the functions in the threading module:\n",
    "\n",
    "run(): This method is the entry point for the thread's activity. It is typically overridden in a subclass and contains the code that the thread will execute when started. When a new thread is created using the Thread class, the run() method is called implicitly when the thread is started using the start() method.\n",
    "\n",
    "start(): This method starts the thread's activity. It creates a new thread of execution and calls the run() method to start the thread's activity. The start() method should only be called once per thread object. If the start() method is called multiple times on the same thread object, a RuntimeError will be raised.\n",
    "\n",
    "join(): This method blocks the calling thread until the thread whose join() method is called completes or until the optional timeout period has passed. This method can be used to wait for a thread to complete its activity before continuing with the execution of the main program. The join() method is typically called after the start() method has been called on a thread object.\n",
    "\n",
    "isAlive(): This method returns a boolean value indicating whether the thread is currently active and running. It can be used to check the status of a thread and determine if it has completed its activity or is still running. The isAlive() method is typically called after the start() method has been called on a thread object. If the isAlive() method returns False, it means that the thread has completed its activity and has terminated."
   ]
  },
  {
   "cell_type": "markdown",
   "id": "38d14900-190b-4872-9364-73f736764451",
   "metadata": {},
   "source": [
    "Q4. Write a python program to create two threads. Thread one must print the list of squares and thread two must print the list of cubes\n",
    "\n"
   ]
  },
  {
   "cell_type": "code",
   "execution_count": 4,
   "id": "1d69b307-4300-4e93-b395-c4805a6075b8",
   "metadata": {},
   "outputs": [
    {
     "name": "stdout",
     "output_type": "stream",
     "text": [
      "Square of 1 is 1\n",
      "Square of 2 is 4\n",
      "Square of 3 is 9\n",
      "Square of 4 is 16\n",
      "Square of 5 is 25\n",
      "Cube of 1 is 1\n",
      "Cube of 2 is 8\n",
      "Cube of 3 is 27\n",
      "Cube of 4 is 64\n",
      "Cube of 5 is 125\n"
     ]
    }
   ],
   "source": [
    "import threading\n",
    "\n",
    "def squares():\n",
    "    for i in range(1, 6):\n",
    "        print(f\"Square of {i} is {i*i}\")\n",
    "\n",
    "def cubes():\n",
    "    for i in range(1, 6):\n",
    "        print(f\"Cube of {i} is {i*i*i}\")\n",
    "\n",
    "t1 = threading.Thread(target=squares)\n",
    "t2 = threading.Thread(target=cubes)\n",
    "\n",
    "\n",
    "t1.start()\n",
    "t2.start()\n"
   ]
  },
  {
   "cell_type": "markdown",
   "id": "fe1ae588-b144-4f0d-8384-db8a6adc8ac9",
   "metadata": {},
   "source": [
    "Q5. State advantages and disadvantages of multithreading\n",
    "\n",
    "Answer:  Advantages:\n",
    "\n",
    "1. Improved Performance\n",
    "2. Efficient use of resources\n",
    "3. Responsiveness\n",
    "4. Improved scalability\n",
    "    \n",
    "Disadvantages:\n",
    "    \n",
    "1. Increased complexity\n",
    "2. Difficulty in programming\n",
    "3. Resource competition\n",
    "4. Overhead"
   ]
  },
  {
   "cell_type": "markdown",
   "id": "11b3ae65-8e30-4fea-ae44-a39aea672370",
   "metadata": {},
   "source": [
    "Q6. Explain deadlocks and race conditions.\n",
    "\n",
    "Answer:  Deadlocks: A deadlock occurs when two or more threads are blocked, each waiting for the other to release a resource that it holds.\n",
    "For example, Thread 1 might hold resource A and need resource B to proceed, while Thread 2 might hold resource B and need resource A to proceed. \n",
    "If neither thread releases its resource, both threads will be blocked, and the program will be stuck in a deadlock. \n",
    "Deadlocks are difficult to detect and resolve, and can cause the program to hang or crash.\n",
    "\n",
    "\n",
    "Race Conditions: A race condition occurs when two or more threads access a shared resource or variable simultaneously, and the final result depends on the order of execution of the threads. \n",
    "For example, Thread 1 and Thread 2 might both read the value of a shared variable, increment it, and write the new value back to the variable. \n",
    "If the two threads execute simultaneously, the final value of the variable will depend on the order in which the threads execute their instructions. \n",
    "This can lead to unpredictable and incorrect results, and can be difficult to debug."
   ]
  },
  {
   "cell_type": "code",
   "execution_count": null,
   "id": "6c105376-ec0a-4b16-8a85-74e5afd76b40",
   "metadata": {},
   "outputs": [],
   "source": []
  }
 ],
 "metadata": {
  "kernelspec": {
   "display_name": "Python 3 (ipykernel)",
   "language": "python",
   "name": "python3"
  },
  "language_info": {
   "codemirror_mode": {
    "name": "ipython",
    "version": 3
   },
   "file_extension": ".py",
   "mimetype": "text/x-python",
   "name": "python",
   "nbconvert_exporter": "python",
   "pygments_lexer": "ipython3",
   "version": "3.10.8"
  }
 },
 "nbformat": 4,
 "nbformat_minor": 5
}
