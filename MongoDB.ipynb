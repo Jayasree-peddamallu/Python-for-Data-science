{
 "cells": [
  {
   "cell_type": "markdown",
   "id": "1be8544c-68ff-4013-84d2-ec8ec9b31a8c",
   "metadata": {},
   "source": [
    "Q1. What is MongoDB? Explain non-relational databases in short. In which scenarios it is preferred to use\n",
    "MongoDB over SQL databases?\n",
    "\n",
    "Answer : MongoDB is a document-oriented NoSQL database that provides high scalability, performance, and flexibility. It uses a flexible data model based on documents, which allows for easy storage and retrieval of data in various formats, including unstructured and semi-structured data. MongoDB is a popular choice for building modern, data-driven applications that require the handling of large volumes of data.\n",
    "\n",
    "Non-relational databases, or NoSQL databases, are databases that do not use a traditional relational data model. They provide a flexible data model that allows for the storage and retrieval of data in various formats, including semi-structured and unstructured data, and they typically provide high scalability, performance, and availability.\n",
    "\n",
    "There are several scenarios where MongoDB is preferred over SQL databases:\n",
    "\n",
    "Large volumes of data: MongoDB is optimized for handling large volumes of data and provides high scalability, making it a good choice for applications that need to handle large data sets.\n",
    "\n",
    "Flexible data models: MongoDB's document-based data model allows for flexible storage of data in various formats, including semi-structured and unstructured data, making it a good choice for applications that require this type of flexibility.\n",
    "\n",
    "Agile development: MongoDB is well-suited for agile development methodologies as it provides flexibility in data modeling and can easily accommodate changes to data structures.\n",
    "\n",
    "Real-time analytics: MongoDB supports real-time analytics and reporting, making it a good choice for applications that require real-time data processing and analysis.\n",
    "\n",
    "Cloud-native applications: MongoDB is designed for cloud-native applications and provides built-in support for containerization, orchestration, and deployment in cloud environments.\n",
    "\n",
    "In summary, MongoDB is a popular choice for building modern, data-driven applications that require handling of large volumes of data, have flexible data models, and need to be developed using agile methodologies."
   ]
  },
  {
   "cell_type": "markdown",
   "id": "fd4b3f97-f196-4727-bf46-6f20e5e51b96",
   "metadata": {},
   "source": [
    "Q2. State and Explain the features of MongoDB.\n",
    "\n",
    "Answer :  MongoDB is a document-oriented NoSQL database that provides a wide range of features. Some of the key features of MongoDB are:\n",
    "\n",
    "Document-based data model: MongoDB uses a document-based data model to store data, which is highly flexible and allows for the storage of data in various formats, including semi-structured and unstructured data.\n",
    "\n",
    "Scalability: MongoDB is highly scalable and can handle large volumes of data with ease. It provides built-in support for sharding and replication, which allows for horizontal scaling of data across multiple servers.\n",
    "\n",
    "High availability: MongoDB provides automatic failover and replication, ensuring that data is always available and accessible even in the event of hardware or software failures.\n",
    "\n",
    "Flexible querying and indexing: MongoDB supports flexible querying and indexing of data, allowing for fast and efficient retrieval of data based on complex queries.\n",
    "\n",
    "Aggregation and real-time analytics: MongoDB provides support for aggregation and real-time analytics, allowing for complex data processing and analysis.\n",
    "\n",
    "Auto-sharding and load balancing: MongoDB automatically manages data distribution and load balancing across multiple servers, making it easy to scale applications as data volumes grow.\n",
    "\n",
    "Rich query language: MongoDB provides a rich query language that supports advanced query features such as ad-hoc queries, indexing, sorting, and projection.\n",
    "\n",
    "Geospatial queries: MongoDB provides built-in support for geospatial queries, allowing for easy storage and retrieval of location-based data.\n",
    "\n",
    "Rich driver and tool ecosystem: MongoDB has a rich driver and tool ecosystem, making it easy to integrate with popular programming languages and tools.\n",
    "\n",
    "Document-level atomic operations: MongoDB supports document-level atomic operations, ensuring that data remains consistent and accurate even in the event of concurrent writes.\n",
    "\n",
    "In summary, MongoDB provides a flexible, scalable, and highly available NoSQL database solution that is optimized for modern, data-driven applications. Its document-based data model, rich query language, and flexible indexing and querying make it a popular choice for building complex applications that require the handling of large volumes of data."
   ]
  },
  {
   "cell_type": "markdown",
   "id": "b63f432c-3a2f-43da-afaf-4e6ab2364f27",
   "metadata": {},
   "source": [
    "Q3. Write a code to connect MongoDB to Python. Also, create a database and a collection in MongoDB."
   ]
  },
  {
   "cell_type": "code",
   "execution_count": null,
   "id": "f802c5a1-24e8-4cf8-b87b-dea0b4cb71c1",
   "metadata": {},
   "outputs": [],
   "source": [
    "import pymongo\n",
    "\n",
    "# Connect to MongoDB\n",
    "client = pymongo.MongoClient(\"mongodb://localhost:27017/\")\n",
    "\n",
    "# Create a database\n",
    "mydb = client[\"mydatabase\"]\n",
    "\n",
    "# Create a collection\n",
    "mycol = mydb[\"customers\"]\n"
   ]
  },
  {
   "cell_type": "markdown",
   "id": "65d44b00-60bd-48d4-950a-c1d69f46cbfe",
   "metadata": {},
   "source": [
    "Q4. Using the database and the collection created in question number 3, write a code to insert one record,\n",
    "and insert many records. Use the find() and find_one() methods to print the inserted record."
   ]
  },
  {
   "cell_type": "code",
   "execution_count": null,
   "id": "0d715bec-df7d-4044-ae6c-da53fd5fec8a",
   "metadata": {},
   "outputs": [],
   "source": [
    "import pymongo\n",
    "\n",
    "# Connect to MongoDB\n",
    "client = pymongo.MongoClient(\"mongodb://localhost:27017/\")\n",
    "mydb = client[\"mydatabase\"]\n",
    "mycol = mydb[\"customers\"]\n",
    "\n",
    "# Insert one record\n",
    "customer = {\"name\": \"John\", \"address\": \"Highway 37\"}\n",
    "mycol.insert_one(customer)\n",
    "\n",
    "# Insert many records\n",
    "customers = [\n",
    "    {\"name\": \"Peter\", \"address\": \"Lowstreet 27\"},\n",
    "    {\"name\": \"Amy\", \"address\": \"Apple st 652\"},\n",
    "    {\"name\": \"Hannah\", \"address\": \"Mountain 21\"},\n",
    "    {\"name\": \"Michael\", \"address\": \"Valley 345\"},\n",
    "    {\"name\": \"Sandy\", \"address\": \"Ocean blvd 2\"}\n",
    "]\n",
    "mycol.insert_many(customers)\n",
    "\n",
    "# Print the inserted records\n",
    "print(\"All records in the collection:\")\n",
    "for record in mycol.find():\n",
    "    print(record)\n",
    "\n",
    "print(\"One record in the collection:\")\n",
    "print(mycol.find_one({\"name\": \"John\"}))\n"
   ]
  },
  {
   "cell_type": "markdown",
   "id": "32612ec2-d297-40a0-816e-11dca638bd01",
   "metadata": {},
   "source": [
    "Q5. Explain how you can use the find() method to query the MongoDB database. Write a simple code to\n",
    "demonstrate this.\n",
    "\n",
    "Answer : In MongoDB, the find() method is used to query a collection and retrieve documents that match a specific criteria. This method returns a cursor object that can be iterated over to access the matching documents.\n",
    "\n",
    "The find() method takes an optional query object as an argument, which specifies the criteria for matching documents. This query object is a dictionary that maps field names to values."
   ]
  },
  {
   "cell_type": "code",
   "execution_count": null,
   "id": "04beaada-23ad-44d5-94e9-18c9d013e836",
   "metadata": {},
   "outputs": [],
   "source": [
    "import pymongo\n",
    "\n",
    "# Connect to MongoDB\n",
    "client = pymongo.MongoClient(\"mongodb://localhost:27017/\")\n",
    "mydb = client[\"mydatabase\"]\n",
    "mycol = mydb[\"customers\"]\n",
    "\n",
    "# Query the collection using find() method\n",
    "query = {\"address\": \"Highway 37\"}\n",
    "results = mycol.find(query)\n",
    "\n",
    "# Print the matching documents\n",
    "for result in results:\n",
    "    print(result)\n"
   ]
  },
  {
   "cell_type": "markdown",
   "id": "df5f75dc-b758-4197-aae9-9ad1a4fc967e",
   "metadata": {},
   "source": [
    "Q6. Explain the sort() method. Give an example to demonstrate sorting in MongoDB.\n",
    "\n",
    "Answer :  In MongoDB, the sort() method is used to sort the results of a query in ascending or descending order based on one or more fields in the document.\n",
    "\n",
    "The sort() method takes a dictionary argument that specifies the fields to sort on and the order to sort in. The keys of the dictionary represent the field names to sort on, and the values represent the sort order. The sort order is specified as 1 for ascending and -1 for descending."
   ]
  },
  {
   "cell_type": "code",
   "execution_count": null,
   "id": "e50224c1-6070-461a-b597-537e3dd5ce31",
   "metadata": {},
   "outputs": [],
   "source": [
    "import pymongo\n",
    "\n",
    "# Connect to MongoDB\n",
    "client = pymongo.MongoClient(\"mongodb://localhost:27017/\")\n",
    "mydb = client[\"mydatabase\"]\n",
    "mycol = mydb[\"customers\"]\n",
    "\n",
    "# Sort the collection using sort() method\n",
    "results = mycol.find().sort(\"name\", 1)  # sort by name field in ascending order\n",
    "\n",
    "# Print the sorted documents\n",
    "for result in results:\n",
    "    print(result)\n"
   ]
  },
  {
   "cell_type": "markdown",
   "id": "a0f05c81-552d-4d39-a5f5-3aaeadc3625f",
   "metadata": {},
   "source": [
    "Q7. Explain why delete_one(), delete_many(), and drop() is used.\n",
    "\n",
    "Answer :  In MongoDB, delete_one(), delete_many(), and drop() are methods used to remove data from a collection or an entire database.\n",
    "\n",
    "delete_one() is used to delete a single document that matches a specific filter. It takes a filter object as an argument, which specifies the criteria for the document to delete. If multiple documents match the filter, delete_one() only deletes the first document it encounters.\n",
    "\n",
    "delete_many() is used to delete all documents that match a specific filter. It takes a filter object as an argument, which specifies the criteria for the documents to delete.\n",
    "\n",
    "drop() is used to delete an entire collection or database. It takes no arguments and simply removes the entire collection or database.\n",
    "\n",
    "These methods are used for a variety of reasons, such as removing outdated or irrelevant data, deleting test data, or resetting a database to its initial state.\n",
    "\n",
    "It's important to use these methods with caution as they can result in permanent data loss. Always make sure to confirm that you are deleting the correct data before executing any of these methods."
   ]
  },
  {
   "cell_type": "code",
   "execution_count": null,
   "id": "1529c482-2034-481d-8bbf-f47bbcebd82c",
   "metadata": {},
   "outputs": [],
   "source": []
  }
 ],
 "metadata": {
  "kernelspec": {
   "display_name": "Python 3 (ipykernel)",
   "language": "python",
   "name": "python3"
  },
  "language_info": {
   "codemirror_mode": {
    "name": "ipython",
    "version": 3
   },
   "file_extension": ".py",
   "mimetype": "text/x-python",
   "name": "python",
   "nbconvert_exporter": "python",
   "pygments_lexer": "ipython3",
   "version": "3.10.8"
  }
 },
 "nbformat": 4,
 "nbformat_minor": 5
}
