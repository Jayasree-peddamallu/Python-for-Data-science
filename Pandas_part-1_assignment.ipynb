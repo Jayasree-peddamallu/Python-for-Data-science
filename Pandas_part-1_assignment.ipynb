{
 "cells": [
  {
   "cell_type": "markdown",
   "id": "f018804b-89ef-49d3-8851-ee28becd7db7",
   "metadata": {},
   "source": [
    "Q1. Create a Pandas Series that contains the following data: 4, 8, 15, 16, 23, and 42. Then, print the series."
   ]
  },
  {
   "cell_type": "code",
   "execution_count": 13,
   "id": "6b7dcae6-7dcc-4e9a-bffb-f2efc1a81e45",
   "metadata": {},
   "outputs": [
    {
     "name": "stdout",
     "output_type": "stream",
     "text": [
      "<class 'pandas.core.series.Series'>\n",
      "0     4\n",
      "1     8\n",
      "2    15\n",
      "3    16\n",
      "4    23\n",
      "5    42\n",
      "dtype: int64\n"
     ]
    }
   ],
   "source": [
    "import pandas as pd\n",
    "df=pd.Series([4, 8, 15, 16, 23,42])\n",
    "print(type(df))\n",
    "print(df)"
   ]
  },
  {
   "cell_type": "markdown",
   "id": "21de67d6-9efe-4bd2-8dc3-bcddbc2d0a06",
   "metadata": {},
   "source": [
    "Q2. Create a variable of list type containing 10 elements in it, and apply pandas.Series function on the\n",
    "variable print it."
   ]
  },
  {
   "cell_type": "code",
   "execution_count": 14,
   "id": "435d115b-1bef-41c6-85e0-80f24c66108e",
   "metadata": {},
   "outputs": [
    {
     "name": "stdout",
     "output_type": "stream",
     "text": [
      "0     1\n",
      "1     2\n",
      "2     3\n",
      "3     4\n",
      "4     5\n",
      "5     6\n",
      "6     7\n",
      "7     8\n",
      "8     9\n",
      "9    10\n",
      "dtype: int64\n"
     ]
    }
   ],
   "source": [
    "import pandas as pd\n",
    "\n",
    "l = [1, 2, 3, 4, 5, 6, 7, 8, 9, 10]\n",
    "\n",
    "df1 = pd.Series(l)\n",
    "\n",
    "print(df1)\n"
   ]
  },
  {
   "attachments": {
    "3066af00-d393-4cda-9f8d-814bc4bbebde.png": {
     "image/png": "[encoded data removed]"
    }
   },
   "cell_type": "markdown",
   "id": "0d51e791-e81f-4569-afb1-f1af5a264ee2",
   "metadata": {},
   "source": [
    "Q3. Create a Pandas DataFrame that contains the following data:\n",
    "\n",
    "![image.png](attachment:3066af00-d393-4cda-9f8d-814bc4bbebde.png)\n",
    "\n",
    "Then, print the DataFrame.             "
   ]
  },
  {
   "cell_type": "code",
   "execution_count": 15,
   "id": "4c9d3184-a23f-456b-a20d-24fd4e3673cf",
   "metadata": {},
   "outputs": [
    {
     "data": {
      "text/html": [
       "<div>\n",
       "<style scoped>\n",
       "    .dataframe tbody tr th:only-of-type {\n",
       "        vertical-align: middle;\n",
       "    }\n",
       "\n",
       "    .dataframe tbody tr th {\n",
       "        vertical-align: top;\n",
       "    }\n",
       "\n",
       "    .dataframe thead th {\n",
       "        text-align: right;\n",
       "    }\n",
       "</style>\n",
       "<table border=\"1\" class=\"dataframe\">\n",
       "  <thead>\n",
       "    <tr style=\"text-align: right;\">\n",
       "      <th></th>\n",
       "      <th>Name</th>\n",
       "      <th>Age</th>\n",
       "      <th>Gender</th>\n",
       "    </tr>\n",
       "  </thead>\n",
       "  <tbody>\n",
       "    <tr>\n",
       "      <th>0</th>\n",
       "      <td>Alice</td>\n",
       "      <td>25</td>\n",
       "      <td>Female</td>\n",
       "    </tr>\n",
       "    <tr>\n",
       "      <th>1</th>\n",
       "      <td>Bob</td>\n",
       "      <td>30</td>\n",
       "      <td>Male</td>\n",
       "    </tr>\n",
       "    <tr>\n",
       "      <th>2</th>\n",
       "      <td>Claire</td>\n",
       "      <td>27</td>\n",
       "      <td>Female</td>\n",
       "    </tr>\n",
       "  </tbody>\n",
       "</table>\n",
       "</div>"
      ],
      "text/plain": [
       "     Name  Age  Gender\n",
       "0   Alice   25  Female\n",
       "1     Bob   30    Male\n",
       "2  Claire   27  Female"
      ]
     },
     "execution_count": 15,
     "metadata": {},
     "output_type": "execute_result"
    }
   ],
   "source": [
    "import pandas as pd\n",
    "df2=pd.DataFrame({'Name':['Alice','Bob','Claire'], 'Age':[25,30,27],'Gender':['Female','Male','Female']})\n",
    "df2"
   ]
  },
  {
   "cell_type": "markdown",
   "id": "0bc3d7ee-f5e9-4a7c-ba96-d5655f3f72b7",
   "metadata": {},
   "source": [
    "Q4. What is ‘DataFrame’ in pandas and how is it different from pandas.series? Explain with an example.\n",
    "\n",
    "Answer :  In pandas, a DataFrame is a two-dimensional tabular data structure that can store data of different types in columns, similar to a spreadsheet or a SQL table. It consists of rows and columns, where each column can have a different data type, such as numbers, strings, or dates. You can think of a DataFrame as a collection of Pandas Series objects, where each Series represents a column of the DataFrame.\n",
    "\n",
    "On the other hand, a Pandas Series is a one-dimensional labeled array capable of holding data of any type (integer, string, float, python objects, etc.). It is similar to a list or an array in Python, but it can have row labels or index, which makes it more flexible for data analysis."
   ]
  },
  {
   "cell_type": "code",
   "execution_count": 16,
   "id": "7c30d44b-c6b3-44ad-bb01-45e7c0f9577a",
   "metadata": {},
   "outputs": [
    {
     "name": "stdout",
     "output_type": "stream",
     "text": [
      "Series:\n",
      " 0    10\n",
      "1    20\n",
      "2    30\n",
      "3    40\n",
      "4    50\n",
      "dtype: int64\n",
      "DataFrame:\n",
      "       name  age  salary\n",
      "0    Alice   25   50000\n",
      "1      Bob   30   60000\n",
      "2  Charlie   35   70000\n",
      "3     Dave   40   80000\n",
      "4    Emily   45   90000\n"
     ]
    }
   ],
   "source": [
    "import pandas as pd\n",
    "\n",
    "# Create a Pandas Series\n",
    "series = pd.Series([10, 20, 30, 40, 50])\n",
    "\n",
    "# Create a Pandas DataFrame\n",
    "df3 = pd.DataFrame({'name': ['Alice', 'Bob', 'Charlie', 'Dave', 'Emily'],\n",
    "                      'age': [25, 30, 35, 40, 45],\n",
    "                      'salary': [50000, 60000, 70000, 80000, 90000]})\n",
    "\n",
    "# Print the Series and DataFrame\n",
    "print(\"Series:\\n\", series)\n",
    "print(\"DataFrame:\\n\", df3)\n"
   ]
  },
  {
   "cell_type": "markdown",
   "id": "be825528-ed23-405f-905a-19d7f3ad524b",
   "metadata": {},
   "source": [
    "Q5. What are some common functions you can use to manipulate data in a Pandas DataFrame? Can\n",
    "you give an example of when you might use one of these functions?\n",
    "\n",
    "Answer : head(): Returns the first n rows of a DataFrame.\n",
    "\n",
    "tail(): Returns the last n rows of a DataFrame\n",
    "\n",
    "shape: Returns a tuple containing the number of rows and columns in a DataFrame.\n",
    "\n",
    "describe(): Generates various summary statistics of a DataFrame, such as count, mean, standard deviation, minimum, and maximum values.\n",
    "\n",
    "info(): Prints a summary of the DataFrame's columns, data types, and memory usage.\n",
    "\n",
    "sort_values(): Sorts the DataFrame based on one or more columns.\n",
    "\n",
    "groupby(): Groups the DataFrame by one or more columns and applies a function to each group.\n",
    "\n",
    "pivot_table(): Creates a pivot table from the DataFrame, which summarizes the data by one or more columns and calculates aggregate values.\n",
    "\n",
    "apply(): Applies a function to each element of a DataFrame.\n"
   ]
  },
  {
   "cell_type": "code",
   "execution_count": null,
   "id": "98a70ea6-7a7e-48be-b4fc-83430f93a7ef",
   "metadata": {},
   "outputs": [],
   "source": [
    "df.head(10) # Returns the first 10 rows of the DataFrame.\n",
    "df.tail(10) # Returns the last 10 rows of the DataFrame.\n",
    "df.shape # Returns (1000, 5) for a DataFrame with 1000 rows and 5 columns.\n",
    "df.describe() # Generates summary statistics for all numerical columns in the DataFrame.\n",
    "df.info() # Prints a summary of the DataFrame's columns, data types, and memory usage.\n",
    "df.sort_values('age') # Sorts the DataFrame based on the 'age' column.\n",
    "df.groupby('gender')['salary'].mean() # Groups the DataFrame by the 'gender' column and calculates the mean salary for each group.\n",
    "pd.pivot_table(df, index='gender', columns='education', values='salary', aggfunc='mean') # Creates a pivot table that shows the mean salary for each combination of gender and education level.\n",
    "df['age_squared'] = df['age'].apply(lambda x: x**2) # Adds a new column to the DataFrame that contains the square of the 'age' column.\n"
   ]
  },
  {
   "cell_type": "markdown",
   "id": "fb399d4d-4322-45cf-91cb-214034a8e4b6",
   "metadata": {},
   "source": [
    "Q6. Which of the following is mutable in nature Series, DataFrame, Panel?\n",
    "\n",
    "Answer : The Series and DataFrame are mutable in nature in Pandas, while Panel is considered as a deprecated data structure and is not recommended for use. Therefore, it is preferable to use other data structures like MultiIndex or simply a dictionary of DataFrames instead of Panel."
   ]
  },
  {
   "cell_type": "markdown",
   "id": "862f3ffd-f6b1-4a63-b581-938e03a05dd3",
   "metadata": {},
   "source": [
    "Q7. Create a DataFrame using multiple Series. Explain with an example."
   ]
  },
  {
   "cell_type": "code",
   "execution_count": 17,
   "id": "37cd443f-43a6-4a33-bf4e-410b99168af7",
   "metadata": {},
   "outputs": [
    {
     "name": "stdout",
     "output_type": "stream",
     "text": [
      "      Name  Age      City\n",
      "0    Alice   25  New York\n",
      "1      Bob   30    London\n",
      "2  Charlie   35     Paris\n"
     ]
    }
   ],
   "source": [
    "import pandas as pd\n",
    "\n",
    "name = pd.Series(['Alice', 'Bob', 'Charlie'])\n",
    "age = pd.Series([25, 30, 35])\n",
    "city = pd.Series(['New York', 'London', 'Paris'])\n",
    "\n",
    "data = {'Name': name, 'Age': age, 'City': city}\n",
    "\n",
    "df = pd.DataFrame(data)\n",
    "\n",
    "print(df)\n"
   ]
  },
  {
   "cell_type": "code",
   "execution_count": null,
   "id": "454b09a2-d0ca-43db-92f3-780e865e05fb",
   "metadata": {},
   "outputs": [],
   "source": []
  }
 ],
 "metadata": {
  "kernelspec": {
   "display_name": "Python 3 (ipykernel)",
   "language": "python",
   "name": "python3"
  },
  "language_info": {
   "codemirror_mode": {
    "name": "ipython",
    "version": 3
   },
   "file_extension": ".py",
   "mimetype": "text/x-python",
   "name": "python",
   "nbconvert_exporter": "python",
   "pygments_lexer": "ipython3",
   "version": "3.10.8"
  }
 },
 "nbformat": 4,
 "nbformat_minor": 5
}
