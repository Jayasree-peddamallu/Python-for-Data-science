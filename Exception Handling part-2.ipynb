{
 "cells": [
  {
   "cell_type": "markdown",
   "id": "08c4664f-7530-48ee-89f5-96f450781732",
   "metadata": {},
   "source": [
    "Q1. Explain why we have to use the Exception class while creating a Custom Exception.\n",
    "Note: Here Exception class refers to the base class for all the exceptions.\n",
    "\n",
    "Answer :  The Exception class is the base class for all exceptions in Python, so using it as the base class ensures that the new exception inherits all the essential properties and methods that are required for an exception to work properly.\n",
    "\n",
    "Inheriting from the Exception class provides several benefits, such as:\n",
    "\n",
    "It provides access to the standard exception handling mechanisms in Python, such as try/except blocks.\n",
    "It allows the new exception to be caught by more general exception handlers, such as catching all exceptions with except Exception.\n",
    "It ensures that the new exception class is compatible with other parts of the Python standard library that expect exceptions to be derived from the Exception class.\n",
    "By using the Exception class as the base class for custom exceptions, it helps ensure that the new exception class will be well-behaved and work as expected within the Python exception handling system. Additionally, using the Exception class provides a consistent and well-established approach for creating custom exceptions in Python."
   ]
  },
  {
   "cell_type": "markdown",
   "id": "95284ee9-66e5-4b5e-bcba-fe2a97422e9f",
   "metadata": {},
   "source": [
    "Q2. Write a python program to print Python Exception Hierarchy."
   ]
  },
  {
   "cell_type": "code",
   "execution_count": 1,
   "id": "4adb88c5-f153-44e9-a188-18419b767e9c",
   "metadata": {},
   "outputs": [
    {
     "name": "stdout",
     "output_type": "stream",
     "text": [
      "ArithmeticError\n",
      "AssertionError\n",
      "AttributeError\n",
      "BlockingIOError\n",
      "BrokenPipeError\n",
      "BufferError\n",
      "ChildProcessError\n",
      "ConnectionAbortedError\n",
      "ConnectionError\n",
      "ConnectionRefusedError\n",
      "ConnectionResetError\n",
      "EOFError\n",
      "EnvironmentError\n",
      "FileExistsError\n",
      "FileNotFoundError\n",
      "FloatingPointError\n",
      "IOError\n",
      "ImportError\n",
      "IndentationError\n",
      "IndexError\n",
      "InterruptedError\n",
      "IsADirectoryError\n",
      "KeyError\n",
      "LookupError\n",
      "MemoryError\n",
      "ModuleNotFoundError\n",
      "NameError\n",
      "NotADirectoryError\n",
      "NotImplementedError\n",
      "OSError\n",
      "OverflowError\n",
      "PermissionError\n",
      "ProcessLookupError\n",
      "RecursionError\n",
      "ReferenceError\n",
      "RuntimeError\n",
      "SyntaxError\n",
      "SystemError\n",
      "TabError\n",
      "TimeoutError\n",
      "TypeError\n",
      "UnboundLocalError\n",
      "UnicodeDecodeError\n",
      "UnicodeEncodeError\n",
      "UnicodeError\n",
      "UnicodeTranslateError\n",
      "ValueError\n",
      "ZeroDivisionError\n"
     ]
    }
   ],
   "source": [
    "for i in dir(__builtins__):\n",
    "    if i.endswith(\"Error\"):\n",
    "        print(i)"
   ]
  },
  {
   "cell_type": "markdown",
   "id": "b7a445dd-1060-49e5-bc0f-e72956e0cdcd",
   "metadata": {},
   "source": [
    "Q3. What errors are defined in the ArithmeticError class? Explain any two with an example.\n",
    "\n",
    "Answer: The ArithmeticError class is a built-in exception class in Python that represents errors that occur during arithmetic operations. It is the base class for several more specific arithmetic exception classes.\n",
    "\n",
    "The following errors are defined in the ArithmeticError class:\n",
    "\n",
    "OverflowError: Raised when a calculation exceeds the maximum limit for a numeric type.\n",
    "\n",
    "ZeroDivisionError: Raised when attempting to divide a number by zero."
   ]
  },
  {
   "cell_type": "code",
   "execution_count": 3,
   "id": "195f5714-37d5-498e-9d3c-8e3bd607c73c",
   "metadata": {},
   "outputs": [
    {
     "ename": "ValueError",
     "evalue": "Exceeds the limit (4300) for integer string conversion; use sys.set_int_max_str_digits() to increase the limit",
     "output_type": "error",
     "traceback": [
      "\u001b[0;31m---------------------------------------------------------------------------\u001b[0m",
      "\u001b[0;31mValueError\u001b[0m                                Traceback (most recent call last)",
      "Cell \u001b[0;32mIn[3], line 5\u001b[0m\n\u001b[1;32m      3\u001b[0m x \u001b[38;5;241m=\u001b[39m \u001b[38;5;241m10000\u001b[39m\n\u001b[1;32m      4\u001b[0m y \u001b[38;5;241m=\u001b[39m math\u001b[38;5;241m.\u001b[39mfactorial(x)\n\u001b[0;32m----> 5\u001b[0m \u001b[38;5;28;43mprint\u001b[39;49m\u001b[43m(\u001b[49m\u001b[43my\u001b[49m\u001b[43m)\u001b[49m\n",
      "\u001b[0;31mValueError\u001b[0m: Exceeds the limit (4300) for integer string conversion; use sys.set_int_max_str_digits() to increase the limit"
     ]
    }
   ],
   "source": [
    "import math\n",
    "\n",
    "x = 10000\n",
    "y = math.factorial(x)\n",
    "print(y)\n"
   ]
  },
  {
   "cell_type": "markdown",
   "id": "8787ebb9-4761-4da5-9e96-be3bfca2a5e2",
   "metadata": {},
   "source": [
    "Q4. Why LookupError class is used? Explain with an example KeyError and IndexError.\n",
    "\n",
    "Answer: The LookupError class is a built-in exception class in Python that represents errors that occur when a key or index is not found. It is the base class for several more specific lookup exception classes.\n",
    "\n",
    "Here are two specific lookup errors that are derived from the LookupError class: KeyError and IndexError."
   ]
  },
  {
   "cell_type": "code",
   "execution_count": 4,
   "id": "f89ce700-f8a1-4110-9119-445f5eb7795c",
   "metadata": {},
   "outputs": [
    {
     "ename": "KeyError",
     "evalue": "'d'",
     "output_type": "error",
     "traceback": [
      "\u001b[0;31m---------------------------------------------------------------------------\u001b[0m",
      "\u001b[0;31mKeyError\u001b[0m                                  Traceback (most recent call last)",
      "Cell \u001b[0;32mIn[4], line 2\u001b[0m\n\u001b[1;32m      1\u001b[0m d \u001b[38;5;241m=\u001b[39m {\u001b[38;5;124m\"\u001b[39m\u001b[38;5;124ma\u001b[39m\u001b[38;5;124m\"\u001b[39m: \u001b[38;5;241m1\u001b[39m, \u001b[38;5;124m\"\u001b[39m\u001b[38;5;124mb\u001b[39m\u001b[38;5;124m\"\u001b[39m: \u001b[38;5;241m2\u001b[39m, \u001b[38;5;124m\"\u001b[39m\u001b[38;5;124mc\u001b[39m\u001b[38;5;124m\"\u001b[39m: \u001b[38;5;241m3\u001b[39m}\n\u001b[0;32m----> 2\u001b[0m \u001b[38;5;28mprint\u001b[39m(\u001b[43md\u001b[49m\u001b[43m[\u001b[49m\u001b[38;5;124;43m\"\u001b[39;49m\u001b[38;5;124;43md\u001b[39;49m\u001b[38;5;124;43m\"\u001b[39;49m\u001b[43m]\u001b[49m)\n",
      "\u001b[0;31mKeyError\u001b[0m: 'd'"
     ]
    }
   ],
   "source": [
    "d = {\"a\": 1, \"b\": 2, \"c\": 3}\n",
    "print(d[\"d\"])\n"
   ]
  },
  {
   "cell_type": "code",
   "execution_count": 5,
   "id": "474bfaa9-1c6d-4c41-a8a2-a45bd88a3466",
   "metadata": {},
   "outputs": [
    {
     "ename": "IndexError",
     "evalue": "list index out of range",
     "output_type": "error",
     "traceback": [
      "\u001b[0;31m---------------------------------------------------------------------------\u001b[0m",
      "\u001b[0;31mIndexError\u001b[0m                                Traceback (most recent call last)",
      "Cell \u001b[0;32mIn[5], line 2\u001b[0m\n\u001b[1;32m      1\u001b[0m l \u001b[38;5;241m=\u001b[39m [\u001b[38;5;241m1\u001b[39m, \u001b[38;5;241m2\u001b[39m, \u001b[38;5;241m3\u001b[39m]\n\u001b[0;32m----> 2\u001b[0m \u001b[38;5;28mprint\u001b[39m(\u001b[43ml\u001b[49m\u001b[43m[\u001b[49m\u001b[38;5;241;43m3\u001b[39;49m\u001b[43m]\u001b[49m)\n",
      "\u001b[0;31mIndexError\u001b[0m: list index out of range"
     ]
    }
   ],
   "source": [
    "l = [1, 2, 3]\n",
    "print(l[3])\n"
   ]
  },
  {
   "cell_type": "markdown",
   "id": "e819028c-22ee-4499-8229-5c36093952cd",
   "metadata": {},
   "source": [
    "Q5. Explain ImportError. What is ModuleNotFoundError?\n",
    "\n",
    "Answer:  ImportError is a built-in exception class in Python that is raised when an imported module, package, or object cannot be found or accessed. This can happen if the module or package name is misspelled, if the module or package is not installed, or if there is an error in the module or package code.\n",
    "\n",
    "ModuleNotFoundError is a more specific exception that is derived from the ImportError class. It is raised when an imported module or package cannot be found or accessed. ModuleNotFoundError was introduced in Python 3.6 to provide a more specific error message for failed imports."
   ]
  },
  {
   "cell_type": "code",
   "execution_count": 7,
   "id": "a6d5f924-8e91-4db7-a776-44ce51e2e715",
   "metadata": {},
   "outputs": [
    {
     "ename": "ModuleNotFoundError",
     "evalue": "No module named 'my_module'",
     "output_type": "error",
     "traceback": [
      "\u001b[0;31m---------------------------------------------------------------------------\u001b[0m",
      "\u001b[0;31mModuleNotFoundError\u001b[0m                       Traceback (most recent call last)",
      "Cell \u001b[0;32mIn[7], line 1\u001b[0m\n\u001b[0;32m----> 1\u001b[0m \u001b[38;5;28;01mimport\u001b[39;00m \u001b[38;5;21;01mmy_module\u001b[39;00m  \u001b[38;5;66;03m# my_module contains syntax errors\u001b[39;00m\n\u001b[1;32m      4\u001b[0m \u001b[38;5;28mprint\u001b[39m(\u001b[38;5;124m\"\u001b[39m\u001b[38;5;124mHello, world!\u001b[39m\u001b[38;5;124m\"\u001b[39m)\n",
      "\u001b[0;31mModuleNotFoundError\u001b[0m: No module named 'my_module'"
     ]
    }
   ],
   "source": [
    "import my_module  # my_module contains syntax errors\n",
    "\n",
    "\n",
    "print(\"Hello, world!\")\n"
   ]
  },
  {
   "cell_type": "markdown",
   "id": "2da740f2-7c0f-4691-b13a-9b250f143ca7",
   "metadata": {},
   "source": [
    "Q6. List down some best practices for exception handling in python.\n",
    "\n",
    "Answer : 1. Be specific with your exceptions: Try to use specific exception classes instead of catching a general exception like Exception. This will make it easier to debug problems and make your code more robust. For example, instead of catching Exception, you might catch ValueError or TypeError if you know that those are the specific types of exceptions that could be raised.\n",
    "\n",
    "2. Don't use exceptions for flow control: Exceptions should not be used to control the normal flow of your program. For example, you should not use exceptions to handle conditions that are expected to happen, like checking if a file exists. Instead, you should use other control structures like if statements or try/except blocks.\n",
    "\n",
    "3. Use try/except blocks: Try/except blocks are a good way to handle exceptions in Python. They allow you to catch specific exceptions and handle them gracefully. When using a try/except block, it's important to catch only the exceptions that you are expecting and handle them in a way that makes sense for your program.\n",
    "\n",
    "4. Keep error messages informative: When an exception is raised, the error message should be informative enough to help you understand what went wrong. It's also a good practice to log the error message or send an alert to a developer or administrator, so they can take action to fix the issue.\n",
    "\n",
    "5. Clean up resources: If your code opens any resources like files or network connections, you should close them in a finally block. This ensures that resources are always cleaned up, even if an exception is raised.\n",
    "\n",
    "6. Don't catch exceptions that you can't handle: If you can't handle an exception, you should let it propagate up the call stack. This allows the caller to handle the exception or let it propagate further. If you catch an exception that you can't handle, you might accidentally swallow the exception or hide a bug in your code.\n",
    "\n",
    "7. Use context managers: Context managers, like the with statement, are a good way to manage resources and handle exceptions. Context managers can ensure that resources are cleaned up properly and that exceptions are handled gracefully."
   ]
  },
  {
   "cell_type": "code",
   "execution_count": null,
   "id": "28bd1c0a-a32e-4226-8890-886340602ade",
   "metadata": {},
   "outputs": [],
   "source": []
  }
 ],
 "metadata": {
  "kernelspec": {
   "display_name": "Python 3 (ipykernel)",
   "language": "python",
   "name": "python3"
  },
  "language_info": {
   "codemirror_mode": {
    "name": "ipython",
    "version": 3
   },
   "file_extension": ".py",
   "mimetype": "text/x-python",
   "name": "python",
   "nbconvert_exporter": "python",
   "pygments_lexer": "ipython3",
   "version": "3.10.8"
  }
 },
 "nbformat": 4,
 "nbformat_minor": 5
}
