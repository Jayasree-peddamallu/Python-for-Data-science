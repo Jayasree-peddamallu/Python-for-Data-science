{
 "cells": [
  {
   "cell_type": "markdown",
   "id": "43ed3ce9-1b2a-41da-a219-a49f8c622e1f",
   "metadata": {},
   "source": [
    "Q1. What is a database? Differentiate between SQL and NoSQL databases.\n",
    "\n",
    "Answer: Database - A database is a structured collection of data that is organized and stored in a computer system. It allows users to efficiently access, manage, and manipulate large amounts of data. \n",
    "\n",
    "SQL databases are relational, structured, and best suited for applications with a high degree of data consistency and reliability, while NoSQL databases are non-relational, flexible, and ideal for applications that require high performance and scalability."
   ]
  },
  {
   "cell_type": "markdown",
   "id": "2eeeca24-7de9-464c-a866-8f4d90bbcd06",
   "metadata": {},
   "source": [
    "Q2. What is DDL? Explain why CREATE, DROP, ALTER, and TRUNCATE are used with an example.\n",
    "\n",
    "Answer: DDL stands for Data Definition Language, which is a subset of SQL used to create, modify, and delete database objects such as tables, indexes, and views. \n",
    "\n",
    "The following are some of the commonly used DDL commands in SQL:\n",
    "CREATE: This command is used to create a new database object, such as a table, index, or view.\n",
    "Example : CREATE TABLE customers (\n",
    "  id INT ,\n",
    "  name VARCHAR(50),\n",
    "  email VARCHAR(50)\n",
    ");\n",
    "\n",
    "DROP: This command is used to delete a database object, such as a table or index.\n",
    "\n",
    "Example: DROP TABLE customers;\n",
    "\n",
    "ALTER: This command is used to modify the structure of a database object, such as a table or view.\n",
    "\n",
    "Example: ALTER TABLE customers\n",
    "ADD COLUMN phone VARCHAR(20);\n",
    "\n",
    "TRUNCATE: This command is used to delete all data from a table, while keeping the structure of the table intact.\n",
    "\n",
    "Example: TRUNCATE TABLE customers;\n"
   ]
  },
  {
   "cell_type": "markdown",
   "id": "64b7d8de-af87-46af-9ede-b41c90dbf882",
   "metadata": {},
   "source": [
    "Q3. What is DML? Explain INSERT, UPDATE, and DELETE with an example.\n",
    "\n",
    "Answer: DML stands for Data Manipulation Language, which is a subset of SQL used to manipulate the data stored in a database. DML commands are used to insert, update, and delete data from database tables. \n",
    "\n",
    "INSERT: This command is used to insert new data into a table.\n",
    "\n",
    "Example: INSERT INTO customers (name, email, phone)\n",
    "VALUES ('Jayasree', 'jayasree@example.com', '123-456-7890');\n",
    "\n",
    "\n",
    "UPDATE: This command is used to modify existing data in a table. \n",
    "\n",
    "Example: UPDATE customers\n",
    "SET email = 'Jayasree_1@example.com'\n",
    "WHERE name = 'Jayasree';\n",
    "\n",
    "\n",
    "DELETE: This command is used to delete one or more rows from a table. \n",
    "\n",
    "Example: DELETE FROM customers\n",
    "WHERE name = 'Jayasree';\n"
   ]
  },
  {
   "cell_type": "markdown",
   "id": "d7d585b1-3feb-4199-8941-188f7db97982",
   "metadata": {},
   "source": [
    "Q4. What is DQL? Explain SELECT with an example.\n",
    "\n",
    "Answer:DQL stands for Data Query Language, which is a subset of SQL used to query or retrieve data from a database. The most commonly used DQL command is SELECT, which is used to retrieve data from one or more tables in a database. \n",
    "\n",
    "Example1:  SELECT * FROM employees;\n",
    "\n",
    "Example2:  SELECT name, salary FROM employees;\n",
    "\n",
    "Example3:  SELECT name, salary FROM employees\n",
    "WHERE age > 30;\n",
    "\n"
   ]
  },
  {
   "cell_type": "markdown",
   "id": "a2624682-be93-4881-a35f-0f749e394585",
   "metadata": {},
   "source": [
    "Q5. Explain Primary Key and Foreign Key.\n",
    "\n",
    "Answer:  In a relational database, a primary key is a column or set of columns in a table that uniquely identifies each row in the table. The primary key enforces data integrity and ensures that each row in the table is unique. The primary key can be a single column or a combination of columns. The primary key is used as a reference by other tables to create relationships with the table that has the primary key.\n",
    "\n",
    "For example, suppose we have two tables: \"orders\" and \"customers\". The \"orders\" table has a column called \"order_id\", which is the primary key of the table. The \"customers\" table also has a column called \"customer_id\", which is the primary key of the table. The \"orders\" table has a column called \"customer_id\", which is a foreign key that refers to the \"customer_id\" column in the \"customers\" table. The foreign key creates a relationship between the \"orders\" and \"customers\" tables.\n",
    "\n",
    "A foreign key is a column or set of columns in a table that refers to the primary key of another table. The foreign key creates a relationship between two tables, where the foreign key table is the child table and the primary key table is the parent table. The foreign key is used to ensure data consistency between the child and parent tables.\n",
    "\n",
    "For example, in the \"orders\" and \"customers\" tables, the \"customer_id\" column in the \"orders\" table is a foreign key that refers to the \"customer_id\" column in the \"customers\" table. The foreign key ensures that the \"customer_id\" values in the \"orders\" table correspond to valid \"customer_id\" values in the \"customers\" table.\n",
    "\n",
    "In summary, a primary key is a column or set of columns that uniquely identifies each row in a table, while a foreign key is a column or set of columns in a table that refers to the primary key of another table. The primary key is used to create relationships with other tables, while the foreign key is used to ensure data consistency between related tables."
   ]
  },
  {
   "cell_type": "markdown",
   "id": "e7adb1c1-9da1-42d5-a279-4ca575a53d70",
   "metadata": {},
   "source": [
    "Q6. Write a python code to connect MySQL to python. Explain the cursor() and execute() method.\n",
    "\n",
    "Answer: The cursor() method creates a cursor object, which is used to execute SQL queries and fetch data from the database. The cursor object provides methods such as execute(), fetchone(), and fetchall() to interact with the database.\n",
    "\n",
    "The execute() method is used to execute an SQL query. The SQL query is passed as an argument to the execute() method. The execute() method returns None. After executing an SQL query, we can fetch the data using the fetchone() or fetchall() method of the cursor object. The fetchone() method returns one row at a time, while the fetchall() method returns all the rows in the result set as a list of tuples."
   ]
  },
  {
   "cell_type": "code",
   "execution_count": null,
   "id": "116d37ac-8bd2-4b70-9217-51f5f4013b0f",
   "metadata": {},
   "outputs": [],
   "source": [
    "import mysql.connector\n",
    "\n",
    "\n",
    "mydb = mysql.connector.connect(\n",
    "  host=\"localhost\",\n",
    "  user=\"abc\",\n",
    "  password=\"password\",\n",
    "  database=\"database\"\n",
    ")\n",
    "\n",
    "# Creating a cursor object\n",
    "mycursor = mydb.cursor()\n",
    "mycursor.execute(\"SELECT * FROM customers\")\n",
    "\n",
    "for row in mycursor.fetchall():\n",
    "    print(row)\n"
   ]
  },
  {
   "cell_type": "markdown",
   "id": "2eb1c77a-8a42-4bd1-a78a-7585c9f6269d",
   "metadata": {},
   "source": [
    "Q7. Give the order of execution of SQL clauses in an SQL query.\n",
    "\n",
    "Answer: The order of execution of SQL clauses in an SQL query is as follows:\n",
    "\n",
    "FROM - Specifies the table or tables from which to retrieve data.\n",
    "\n",
    "JOIN - Combines rows from two or more tables based on a related column between them.\n",
    "\n",
    "WHERE - Filters the rows based on a specified condition.\n",
    "\n",
    "GROUP BY - Groups the rows based on one or more columns.\n",
    "\n",
    "HAVING - Filters the groups based on a specified condition.\n",
    "\n",
    "SELECT - Selects the columns to be returned in the result set.\n",
    "\n",
    "DISTINCT - Removes duplicate rows from the result set.\n",
    "\n",
    "ORDER BY - Sorts the rows in the result set based on one or more columns.\n",
    "\n",
    "LIMIT - Limits the number of rows returned in the result set.\n",
    "\n",
    "It's important to note that not all clauses are required in every SQL query, and the order of the clauses can be changed depending on the specific query. However, in general, this is the logical order of execution for a typical SELECT statement."
   ]
  },
  {
   "cell_type": "code",
   "execution_count": null,
   "id": "82e991fe-9dbc-494d-8717-68ecfb17190d",
   "metadata": {},
   "outputs": [],
   "source": []
  }
 ],
 "metadata": {
  "kernelspec": {
   "display_name": "Python 3 (ipykernel)",
   "language": "python",
   "name": "python3"
  },
  "language_info": {
   "codemirror_mode": {
    "name": "ipython",
    "version": 3
   },
   "file_extension": ".py",
   "mimetype": "text/x-python",
   "name": "python",
   "nbconvert_exporter": "python",
   "pygments_lexer": "ipython3",
   "version": "3.10.8"
  }
 },
 "nbformat": 4,
 "nbformat_minor": 5
}
