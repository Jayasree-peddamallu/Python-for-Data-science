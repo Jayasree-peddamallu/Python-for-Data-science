{
 "cells": [
  {
   "cell_type": "markdown",
   "id": "59d626c6-dcce-4436-8fc7-b142cab7d0c4",
   "metadata": {},
   "source": [
    "Q1. Create a vehicle class with an init method having instance variables as name_of_vehicle, max_speed\n",
    "and average_of_vehicle."
   ]
  },
  {
   "cell_type": "code",
   "execution_count": 3,
   "id": "586f74c1-bf0e-4d61-aa3e-bad97b44cc54",
   "metadata": {},
   "outputs": [],
   "source": [
    "class vehicle:\n",
    "    def __init__(self,name_of_vehicle,max_speed,average_of_vehicle):\n",
    "        self.name_of_vehicle=name_of_vehicle\n",
    "        self.max_speed=max_speed\n",
    "        self.average_of_vehicle=average_of_vehicle"
   ]
  },
  {
   "cell_type": "markdown",
   "id": "20aa8db0-7f44-44ba-bbaf-ab9822dd4fa4",
   "metadata": {},
   "source": [
    "Q2. Create a child class car from the vehicle class created in Que 1, which will inherit the vehicle class.\n",
    "Create a method named seating_capacity which takes capacity as an argument and returns the name of\n",
    "the vehicle and its seating capacity."
   ]
  },
  {
   "cell_type": "code",
   "execution_count": 16,
   "id": "4f58ca9b-22e0-4cec-9035-e44d761633cf",
   "metadata": {},
   "outputs": [],
   "source": [
    "class car(vehicle):\n",
    "    def seating_capacity(self, capacity):\n",
    "        return self.name_of_vehicle,capacity\n",
    "    "
   ]
  },
  {
   "cell_type": "code",
   "execution_count": 17,
   "id": "d3a891f8-56e9-456a-b537-738b0df8a55a",
   "metadata": {},
   "outputs": [],
   "source": [
    "car_obj=car(\"Innova\",200,120)"
   ]
  },
  {
   "cell_type": "code",
   "execution_count": 19,
   "id": "f38506b3-9b06-4a1a-b5fc-4028f2fa681a",
   "metadata": {},
   "outputs": [
    {
     "name": "stdout",
     "output_type": "stream",
     "text": [
      "('Innova', 7)\n"
     ]
    }
   ],
   "source": [
    "print(car_obj.seating_capacity(7))"
   ]
  },
  {
   "cell_type": "markdown",
   "id": "a3fe4d77-2ade-4301-94e1-0cedf9a2be81",
   "metadata": {},
   "source": [
    "Q3. What is multiple inheritance? Write a python code to demonstrate multiple inheritance.\n",
    "\n",
    "Answer: where a class can inherit properties and methods from multiple parent classes. It allows a class to inherit attributes and methods from multiple parent classes, rather than just one."
   ]
  },
  {
   "cell_type": "code",
   "execution_count": 34,
   "id": "c0755829-d3f2-4bd1-96e0-3c0793511527",
   "metadata": {},
   "outputs": [],
   "source": [
    "class school:\n",
    "    def __init__(self,school_name):\n",
    "        self.school_name=school_name\n",
    "        \n",
    "class className:\n",
    "    def __init__(self,class_name,student_name):\n",
    "        self.class_name=class_name\n",
    "        self.student_name=student_name\n",
    "class student(school,className):\n",
    "    def __init__(self,school_name,class_name,student_name,age):\n",
    "        school.__init__(self,school_name)\n",
    "        className.__init__(self,class_name,student_name)\n",
    "        self.age=age\n",
    "    def display(self):\n",
    "        return self.school_name,self.class_name,self.student_name\n",
    "        \n",
    "    \n",
    "    \n",
    "    "
   ]
  },
  {
   "cell_type": "code",
   "execution_count": 37,
   "id": "22e679f4-3339-4ea2-938d-c3ccf89319bf",
   "metadata": {},
   "outputs": [],
   "source": [
    "student_obj=student(\"Global school\",\"5th Class\",\"jayasree\",10)"
   ]
  },
  {
   "cell_type": "code",
   "execution_count": 38,
   "id": "6ec4f0e9-0097-4f0a-ba51-55e084647672",
   "metadata": {},
   "outputs": [
    {
     "data": {
      "text/plain": [
       "('Global school', '5th Class', 'jayasree')"
      ]
     },
     "execution_count": 38,
     "metadata": {},
     "output_type": "execute_result"
    }
   ],
   "source": [
    "student_obj.display()"
   ]
  },
  {
   "cell_type": "markdown",
   "id": "97793280-0165-4539-92ac-3280cb9cd981",
   "metadata": {},
   "source": [
    "Q4. What are getter and setter in python? Create a class and create a getter and a setter method in this\n",
    "class.\n",
    "\n",
    "Answer: Getters and setters are methods in Python classes that allow you to get and set the values of an object's attributes, respectively. The getter method returns the value of an attribute, while the setter method sets the value of an attribute."
   ]
  },
  {
   "cell_type": "code",
   "execution_count": 40,
   "id": "924ad229-4790-445d-90a0-5adcf6990d46",
   "metadata": {},
   "outputs": [
    {
     "name": "stdout",
     "output_type": "stream",
     "text": [
      "Name: Jayasree\n",
      "Name: Shasi\n"
     ]
    }
   ],
   "source": [
    "class Person:\n",
    "    def __init__(self, name):\n",
    "        self.__name = name\n",
    "\n",
    "    def get_name(self):\n",
    "        return self.__name\n",
    "\n",
    "    def set_name(self, name):\n",
    "        self.__name = name\n",
    "\n",
    "person = Person(\"Jayasree\")\n",
    "print(\"Name:\", person.get_name())\n",
    "\n",
    "person.set_name(\"Shasi\")\n",
    "print(\"Name:\", person.get_name())\n"
   ]
  },
  {
   "cell_type": "markdown",
   "id": "d5c2e4ee-44dc-4085-b58c-9434e15bf086",
   "metadata": {},
   "source": [
    "Q5.What is method overriding in python? Write a python code to demonstrate method overriding.\n",
    "\n",
    "Answer : Method overriding in Python is a feature that allows a subclass to provide a different implementation of a method that is already defined in its superclass. This allows the subclass to inherit the attributes and behaviors of the superclass, but with specific modifications."
   ]
  },
  {
   "cell_type": "code",
   "execution_count": 41,
   "id": "9e49a8d1-06c0-4121-8609-47309bbc6903",
   "metadata": {},
   "outputs": [
    {
     "name": "stdout",
     "output_type": "stream",
     "text": [
      "This display method belongs to class B\n"
     ]
    }
   ],
   "source": [
    "class A:\n",
    "    def display(self):\n",
    "        print(\"This display method belongs to class A\")\n",
    "class B(A):\n",
    "    def display(self): # using the same method name as class A so that it will override the dislay() method of Class A\n",
    "        print(\"This display method belongs to class B\")\n",
    "obj_b=B()\n",
    "obj_b.display() \n",
    "    "
   ]
  },
  {
   "cell_type": "code",
   "execution_count": null,
   "id": "6f317dee-a87e-422f-9a7c-83f96321c6e9",
   "metadata": {},
   "outputs": [],
   "source": []
  }
 ],
 "metadata": {
  "kernelspec": {
   "display_name": "Python 3 (ipykernel)",
   "language": "python",
   "name": "python3"
  },
  "language_info": {
   "codemirror_mode": {
    "name": "ipython",
    "version": 3
   },
   "file_extension": ".py",
   "mimetype": "text/x-python",
   "name": "python",
   "nbconvert_exporter": "python",
   "pygments_lexer": "ipython3",
   "version": "3.10.8"
  }
 },
 "nbformat": 4,
 "nbformat_minor": 5
}
