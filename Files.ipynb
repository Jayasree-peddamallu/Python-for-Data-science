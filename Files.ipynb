{
 "cells": [
  {
   "cell_type": "markdown",
   "id": "d002b946-36b5-4ae3-9aee-83da762dca1d",
   "metadata": {},
   "source": [
    "Q1. Which function is used to open a file? What are the different modes of opening a file? Explain each mode\n",
    "of file opening.\n",
    "\n",
    "Answer: The \"open()\" function is used to open a file in Python.\n",
    "\n",
    "Different modes of opening a file.\n",
    "'r': This mode is used to open a file for reading. The file pointer is placed at the beginning of the file, and an error will occur if the file does not exist. This is the default mode if no mode is specified.\n",
    "\n",
    "'w': This mode is used to open a file for writing. If the file already exists, its contents are truncated. If the file does not exist, a new file is created. The file pointer is placed at the beginning of the file.\n",
    "\n",
    "'x': This mode is used to open a file for exclusive creation. If the file already exists, an error is raised.\n",
    "\n",
    "'a': This mode is used to open a file for appending. The file pointer is placed at the end of the file. If the file does not exist, a new file is created.\n",
    "\n",
    "'b': This mode is used to open a file in binary mode.\n",
    "\n",
    "'t': This mode is used to open a file in text mode. This is the default mode if no mode is specified.\n",
    "\n",
    "'+': This mode is used to open a file for updating (reading and writing)."
   ]
  },
  {
   "cell_type": "code",
   "execution_count": 2,
   "id": "c9dfb63a-89f1-4875-8253-045720a7c95e",
   "metadata": {},
   "outputs": [],
   "source": [
    "# Open file for writing\n",
    "file = open('example.txt', 'w')\n",
    "\n",
    "# Write to the file\n",
    "file.write('This is an example file.\\n')\n",
    "\n",
    "# Close the file\n",
    "file.close()"
   ]
  },
  {
   "cell_type": "code",
   "execution_count": 3,
   "id": "25319ad4-f3b2-4776-8fdc-b161733ab52d",
   "metadata": {},
   "outputs": [
    {
     "name": "stdout",
     "output_type": "stream",
     "text": [
      "This is an example file.\n",
      "\n"
     ]
    }
   ],
   "source": [
    "# Open file for reading\n",
    "file = open('example.txt', 'r')\n",
    "\n",
    "# Read and print the contents of the file\n",
    "content = file.read()\n",
    "print(content)\n",
    "\n",
    "# Close the file\n",
    "file.close()"
   ]
  },
  {
   "cell_type": "markdown",
   "id": "9c2d7251-507a-4f34-acc7-b9d279d90776",
   "metadata": {},
   "source": [
    "Q2. Why close() function is used? Why is it important to close a file?\n",
    "\n",
    "Answer: In programming, when you open a file, you create a connection between the file and the program. This connection consumes system resources, including memory and processor time. The close() function is used to terminate this connection and release those resources.\n",
    "\n",
    "It's important to close a file after you've finished using it for several reasons:\n",
    "\n",
    "Prevent data loss: If you don't close a file after writing to it, the data may not be saved properly, leading to potential data loss.\n",
    "\n",
    "Free system resources: As mentioned earlier, an open file connection consumes system resources. Failing to close a file can lead to resource leaks, which can cause your program to slow down or even crash.\n",
    "\n",
    "Allow other programs to access the file: If you keep a file open, other programs may not be able to access it. By closing the file, you release the lock on the file, allowing other programs to access it.\n",
    "\n",
    "Ensure data integrity: When you close a file, the operating system writes any data still in the program's buffer to the file. This ensures that the file contains all the data you wrote to it and that the data is in the correct order.\n",
    "\n",
    "In summary, it's important to always close a file after you've finished using it to prevent data loss, free system resources, allow other programs to access the file, and ensure data integrity."
   ]
  },
  {
   "cell_type": "markdown",
   "id": "cd704701-a350-4781-bca9-68ab0052ede1",
   "metadata": {},
   "source": [
    "Q3. Write a python program to create a text file. Write ‘I want to become a Data Scientist’ in that file. Then\n",
    "close the file. Open this file and read the content of the file.\n",
    "\n"
   ]
  },
  {
   "cell_type": "code",
   "execution_count": 4,
   "id": "4997b98a-111a-4459-8a5c-68f902574ab6",
   "metadata": {},
   "outputs": [
    {
     "name": "stdout",
     "output_type": "stream",
     "text": [
      "I want to become a Data Scientist\n"
     ]
    }
   ],
   "source": [
    "with open('data_scientist.txt', 'w') as file:\n",
    "    file.write('I want to become a Data Scientist')\n",
    "\n",
    "with open('data_scientist.txt', 'r') as file:\n",
    "    contents = file.read()\n",
    "\n",
    "print(contents)\n"
   ]
  },
  {
   "cell_type": "code",
   "execution_count": null,
   "id": "ad2245df-4f53-4fcb-a29e-41cf49c9f22b",
   "metadata": {},
   "outputs": [],
   "source": [
    "Q4. Explain the following with python code: read(), readline() and readlines().\n",
    "\n",
    "Answer: \n",
    "read(): This method reads the entire contents of the file as a single string.\n",
    "\n",
    "readline(): This method reads a single line from the file.\n",
    "\n",
    "readlines(): This method reads all the lines of the file and returns them as a list of strings.\n"
   ]
  },
  {
   "cell_type": "code",
   "execution_count": 5,
   "id": "dd07ec07-47d4-4d2c-8657-52488d2ed152",
   "metadata": {},
   "outputs": [
    {
     "name": "stdout",
     "output_type": "stream",
     "text": [
      "This is an example file.\n",
      "\n"
     ]
    }
   ],
   "source": [
    "file = open('example.txt', 'r')\n",
    "\n",
    "contents = file.read()\n",
    "\n",
    "print(contents)\n",
    "\n",
    "file.close()\n"
   ]
  },
  {
   "cell_type": "code",
   "execution_count": 7,
   "id": "9bc0d98c-3c91-41f9-8fcf-6ff0e8ca2007",
   "metadata": {},
   "outputs": [
    {
     "name": "stdout",
     "output_type": "stream",
     "text": [
      "This is an example file.\n",
      "\n",
      "Hi\n"
     ]
    }
   ],
   "source": [
    "file = open('example.txt', 'r')\n",
    "line1 = file.readline()\n",
    "line2 = file.readline()\n",
    "\n",
    "print(line1)\n",
    "print(line2)\n",
    "\n",
    "file.close()\n"
   ]
  },
  {
   "cell_type": "code",
   "execution_count": 8,
   "id": "3c630adb-ef45-4f63-9764-ed46c4ebeb32",
   "metadata": {},
   "outputs": [
    {
     "name": "stdout",
     "output_type": "stream",
     "text": [
      "This is an example file.\n",
      "\n",
      "Hi\n",
      "\n",
      "I am Jayasree\n"
     ]
    }
   ],
   "source": [
    "file = open('example.txt', 'r')\n",
    "lines = file.readlines()\n",
    "\n",
    "for line in lines:\n",
    "    print(line)\n",
    "\n",
    "file.close()\n"
   ]
  },
  {
   "cell_type": "markdown",
   "id": "3528a1bd-4282-45e2-beb5-713d8cf2d2f0",
   "metadata": {},
   "source": [
    "Q5. Explain why with statement is used with open(). What is the advantage of using with statement and\n",
    "open() together?\n",
    "\n",
    "Answer: The open() function is used to open files in Python, but it does not automatically close the file when the program is finished using it. If a file is not closed properly, it can cause errors or even data corruption. That's where the with statement comes in.\n",
    "\n",
    "The with statement can be used with the open() function to ensure that the file is automatically closed when the block of code is finished executing. This eliminates the need to call file.close() explicitly and helps prevent errors and data corruption."
   ]
  },
  {
   "cell_type": "code",
   "execution_count": 9,
   "id": "99cc1da3-4b95-4f01-a98e-425799f6deed",
   "metadata": {},
   "outputs": [],
   "source": [
    "with open('example.txt', 'r') as file:\n",
    "    contents = file.read()\n",
    "# The file is automatically closed after the with block is executed\n"
   ]
  },
  {
   "cell_type": "markdown",
   "id": "87f56c0f-9eca-43c4-bd3b-f55c6311ad80",
   "metadata": {},
   "source": [
    "Q6. Explain the write() and writelines() functions. Give a suitable example.\n",
    "\n",
    "Answer: write(): This method is used to write a string to a file.\n",
    "\n",
    "writelines(): This method is used to write a list of strings to a file.\n",
    "\n",
    "The advantage of using these functions is that they allow you to write data to a file in a simple and efficient way. The write() function is useful for writing individual strings to a file, while the writelines() function is useful for writing lists of strings. Together, they provide powerful and flexible functionality for writing data to files in Python."
   ]
  },
  {
   "cell_type": "code",
   "execution_count": 12,
   "id": "507be60c-3eca-4a22-8ac9-665d181cf0fc",
   "metadata": {},
   "outputs": [],
   "source": [
    "file = open('example.txt', 'w')\n",
    "file.write('Hello, World!')\n",
    "file.close()\n"
   ]
  },
  {
   "cell_type": "code",
   "execution_count": 13,
   "id": "a0612831-31a3-4d7e-b29c-b929d5a88ca0",
   "metadata": {},
   "outputs": [],
   "source": [
    "file = open('example.txt', 'w')\n",
    "\n",
    "lines = ['I want to become a data scientist.\\n', 'I love Python programming.\\n']\n",
    "file.writelines(lines)\n",
    "file.close()\n"
   ]
  },
  {
   "cell_type": "code",
   "execution_count": null,
   "id": "018a10c6-9642-4ed5-93ab-ee65234f5978",
   "metadata": {},
   "outputs": [],
   "source": []
  }
 ],
 "metadata": {
  "kernelspec": {
   "display_name": "Python 3 (ipykernel)",
   "language": "python",
   "name": "python3"
  },
  "language_info": {
   "codemirror_mode": {
    "name": "ipython",
    "version": 3
   },
   "file_extension": ".py",
   "mimetype": "text/x-python",
   "name": "python",
   "nbconvert_exporter": "python",
   "pygments_lexer": "ipython3",
   "version": "3.10.8"
  }
 },
 "nbformat": 4,
 "nbformat_minor": 5
}
